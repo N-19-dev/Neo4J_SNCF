{
 "cells": [
  {
   "cell_type": "markdown",
   "metadata": {},
   "source": [
    "# Création des liens "
   ]
  },
  {
   "cell_type": "code",
   "execution_count": null,
   "metadata": {},
   "outputs": [],
   "source": [
    "def create_link(tx, origine, destination, n_train, date, h_depart, h_arrivee):\n",
    "\n",
    "  # Rechercher les noeuds Person et Movie existants (optionnel pour l'efficacité)\n",
    "  result = tx.run(\"MATCH (gd:Gare {Nom: $origine}), (gd:Gare {Nom: $destination}) MERGE (gd)-[:TRAJET{n_train:$n_train, h_depart:$h_depart, h_arrivee:$h_arrivee, date:$date}]->(gd)\",\n",
    "                  origine=origine, destination=destination)\n",
    "\n",
    "#Je prends mes attibuts de ma Database\n",
    "for i in range (100):\n",
    "  create_link(tx, df[\"Origine\"][i], df[\"Destination\"][i], df[\"TRAIN_NO\"][i], df[\"DATE\"][i], df[\"Heure_depart\"][i], df[\"Heure_arrivee\"][i])\n",
    "\n",
    "\n",
    "\n",
    "with driver.session() as session:\n",
    "    session.execute_write(create_link, \"<Gare1>\", \"<Gare2>\")"
   ]
  },
  {
   "cell_type": "markdown",
   "metadata": {},
   "source": [
    "# Recherche entre deux villes "
   ]
  },
  {
   "cell_type": "code",
   "execution_count": null,
   "metadata": {},
   "outputs": [],
   "source": [
    "def search_link(tx, ville_depart, ville_arrivee):\n",
    "\n",
    "  results = tx.run(\n",
    "                   \"MATCH (gd:Gare {name: $ville_depart}) MATCH (ga:Gare {name: $ville_arrivee})\"\n",
    "                   \"MATCH trajet = (gd)-[:TRAJET]->(ga)\"\n",
    "                   \"RETURN trajet,COUNT(trajet) AS nb_trajets\"\n",
    "                   , parameters={\"ville_depart\": ville_depart, \"ville_arrivee\": ville_arrivee})\n",
    "  return results.data()\n",
    "\n",
    "# Exécuter la requête Cypher\n",
    "with driver.session() as session:\n",
    "  liste = session.execute_write(search_link, \"Lyon\", \"Paris\")\n",
    "  print(liste)\n",
    "  for i in liste:\n",
    "    print (i[\"trajet\"][0][\"name\"], i[\"trajet\"][1], i[\"trajet\"][2][\"<title>\"],i[\"trajet\"][3],i[\"trajet\"][4][\"name\"])\n",
    "    "
   ]
  }
 ],
 "metadata": {
  "kernelspec": {
   "display_name": "Python 3",
   "language": "python",
   "name": "python3"
  },
  "language_info": {
   "name": "python",
   "version": "3.11.3"
  }
 },
 "nbformat": 4,
 "nbformat_minor": 2
}
